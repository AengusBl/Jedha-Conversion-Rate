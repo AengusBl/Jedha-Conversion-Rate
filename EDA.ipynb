{
 "cells": [
  {
   "cell_type": "markdown",
   "id": "80013e7f",
   "metadata": {},
   "source": [
    "# EDA"
   ]
  },
  {
   "cell_type": "code",
   "execution_count": null,
   "id": "ed2e45dd",
   "metadata": {},
   "outputs": [],
   "source": [
    "import plotly.express as px\n",
    "import pandas as pd"
   ]
  },
  {
   "cell_type": "code",
   "execution_count": null,
   "id": "a74a8090",
   "metadata": {},
   "outputs": [
    {
     "name": "stdout",
     "output_type": "stream",
     "text": [
      "Set with labels (our train+test) : (284580, 6)\n"
     ]
    }
   ],
   "source": [
    "data = pd.read_csv('conversion_data_train.csv')\n",
    "print('Set with labels (our train+test) :', data.shape)"
   ]
  },
  {
   "cell_type": "code",
   "execution_count": null,
   "id": "220d5928",
   "metadata": {},
   "outputs": [
    {
     "data": {
      "text/html": [
       "<div>\n",
       "<style scoped>\n",
       "    .dataframe tbody tr th:only-of-type {\n",
       "        vertical-align: middle;\n",
       "    }\n",
       "\n",
       "    .dataframe tbody tr th {\n",
       "        vertical-align: top;\n",
       "    }\n",
       "\n",
       "    .dataframe thead th {\n",
       "        text-align: right;\n",
       "    }\n",
       "</style>\n",
       "<table border=\"1\" class=\"dataframe\">\n",
       "  <thead>\n",
       "    <tr style=\"text-align: right;\">\n",
       "      <th></th>\n",
       "      <th>country</th>\n",
       "      <th>age</th>\n",
       "      <th>new_user</th>\n",
       "      <th>source</th>\n",
       "      <th>total_pages_visited</th>\n",
       "      <th>converted</th>\n",
       "    </tr>\n",
       "  </thead>\n",
       "  <tbody>\n",
       "    <tr>\n",
       "      <th>0</th>\n",
       "      <td>China</td>\n",
       "      <td>22</td>\n",
       "      <td>1</td>\n",
       "      <td>Direct</td>\n",
       "      <td>2</td>\n",
       "      <td>0</td>\n",
       "    </tr>\n",
       "    <tr>\n",
       "      <th>1</th>\n",
       "      <td>UK</td>\n",
       "      <td>21</td>\n",
       "      <td>1</td>\n",
       "      <td>Ads</td>\n",
       "      <td>3</td>\n",
       "      <td>0</td>\n",
       "    </tr>\n",
       "    <tr>\n",
       "      <th>2</th>\n",
       "      <td>Germany</td>\n",
       "      <td>20</td>\n",
       "      <td>0</td>\n",
       "      <td>Seo</td>\n",
       "      <td>14</td>\n",
       "      <td>1</td>\n",
       "    </tr>\n",
       "    <tr>\n",
       "      <th>3</th>\n",
       "      <td>US</td>\n",
       "      <td>23</td>\n",
       "      <td>1</td>\n",
       "      <td>Seo</td>\n",
       "      <td>3</td>\n",
       "      <td>0</td>\n",
       "    </tr>\n",
       "    <tr>\n",
       "      <th>4</th>\n",
       "      <td>US</td>\n",
       "      <td>28</td>\n",
       "      <td>1</td>\n",
       "      <td>Direct</td>\n",
       "      <td>3</td>\n",
       "      <td>0</td>\n",
       "    </tr>\n",
       "    <tr>\n",
       "      <th>5</th>\n",
       "      <td>US</td>\n",
       "      <td>29</td>\n",
       "      <td>0</td>\n",
       "      <td>Seo</td>\n",
       "      <td>7</td>\n",
       "      <td>0</td>\n",
       "    </tr>\n",
       "    <tr>\n",
       "      <th>6</th>\n",
       "      <td>US</td>\n",
       "      <td>30</td>\n",
       "      <td>1</td>\n",
       "      <td>Direct</td>\n",
       "      <td>4</td>\n",
       "      <td>0</td>\n",
       "    </tr>\n",
       "    <tr>\n",
       "      <th>7</th>\n",
       "      <td>UK</td>\n",
       "      <td>38</td>\n",
       "      <td>1</td>\n",
       "      <td>Ads</td>\n",
       "      <td>2</td>\n",
       "      <td>0</td>\n",
       "    </tr>\n",
       "    <tr>\n",
       "      <th>8</th>\n",
       "      <td>UK</td>\n",
       "      <td>26</td>\n",
       "      <td>1</td>\n",
       "      <td>Seo</td>\n",
       "      <td>4</td>\n",
       "      <td>0</td>\n",
       "    </tr>\n",
       "    <tr>\n",
       "      <th>9</th>\n",
       "      <td>UK</td>\n",
       "      <td>31</td>\n",
       "      <td>0</td>\n",
       "      <td>Seo</td>\n",
       "      <td>5</td>\n",
       "      <td>0</td>\n",
       "    </tr>\n",
       "    <tr>\n",
       "      <th>10</th>\n",
       "      <td>US</td>\n",
       "      <td>31</td>\n",
       "      <td>1</td>\n",
       "      <td>Direct</td>\n",
       "      <td>1</td>\n",
       "      <td>0</td>\n",
       "    </tr>\n",
       "    <tr>\n",
       "      <th>11</th>\n",
       "      <td>US</td>\n",
       "      <td>18</td>\n",
       "      <td>1</td>\n",
       "      <td>Seo</td>\n",
       "      <td>3</td>\n",
       "      <td>0</td>\n",
       "    </tr>\n",
       "    <tr>\n",
       "      <th>12</th>\n",
       "      <td>Germany</td>\n",
       "      <td>27</td>\n",
       "      <td>1</td>\n",
       "      <td>Ads</td>\n",
       "      <td>14</td>\n",
       "      <td>1</td>\n",
       "    </tr>\n",
       "    <tr>\n",
       "      <th>13</th>\n",
       "      <td>China</td>\n",
       "      <td>30</td>\n",
       "      <td>1</td>\n",
       "      <td>Seo</td>\n",
       "      <td>10</td>\n",
       "      <td>0</td>\n",
       "    </tr>\n",
       "    <tr>\n",
       "      <th>14</th>\n",
       "      <td>Germany</td>\n",
       "      <td>27</td>\n",
       "      <td>1</td>\n",
       "      <td>Ads</td>\n",
       "      <td>2</td>\n",
       "      <td>0</td>\n",
       "    </tr>\n",
       "    <tr>\n",
       "      <th>15</th>\n",
       "      <td>US</td>\n",
       "      <td>38</td>\n",
       "      <td>1</td>\n",
       "      <td>Ads</td>\n",
       "      <td>4</td>\n",
       "      <td>0</td>\n",
       "    </tr>\n",
       "    <tr>\n",
       "      <th>16</th>\n",
       "      <td>US</td>\n",
       "      <td>24</td>\n",
       "      <td>1</td>\n",
       "      <td>Direct</td>\n",
       "      <td>3</td>\n",
       "      <td>0</td>\n",
       "    </tr>\n",
       "    <tr>\n",
       "      <th>17</th>\n",
       "      <td>Germany</td>\n",
       "      <td>18</td>\n",
       "      <td>1</td>\n",
       "      <td>Seo</td>\n",
       "      <td>6</td>\n",
       "      <td>0</td>\n",
       "    </tr>\n",
       "    <tr>\n",
       "      <th>18</th>\n",
       "      <td>US</td>\n",
       "      <td>20</td>\n",
       "      <td>1</td>\n",
       "      <td>Ads</td>\n",
       "      <td>2</td>\n",
       "      <td>0</td>\n",
       "    </tr>\n",
       "    <tr>\n",
       "      <th>19</th>\n",
       "      <td>US</td>\n",
       "      <td>37</td>\n",
       "      <td>0</td>\n",
       "      <td>Direct</td>\n",
       "      <td>6</td>\n",
       "      <td>0</td>\n",
       "    </tr>\n",
       "  </tbody>\n",
       "</table>\n",
       "</div>"
      ],
      "text/plain": [
       "    country  age  new_user  source  total_pages_visited  converted\n",
       "0     China   22         1  Direct                    2          0\n",
       "1        UK   21         1     Ads                    3          0\n",
       "2   Germany   20         0     Seo                   14          1\n",
       "3        US   23         1     Seo                    3          0\n",
       "4        US   28         1  Direct                    3          0\n",
       "5        US   29         0     Seo                    7          0\n",
       "6        US   30         1  Direct                    4          0\n",
       "7        UK   38         1     Ads                    2          0\n",
       "8        UK   26         1     Seo                    4          0\n",
       "9        UK   31         0     Seo                    5          0\n",
       "10       US   31         1  Direct                    1          0\n",
       "11       US   18         1     Seo                    3          0\n",
       "12  Germany   27         1     Ads                   14          1\n",
       "13    China   30         1     Seo                   10          0\n",
       "14  Germany   27         1     Ads                    2          0\n",
       "15       US   38         1     Ads                    4          0\n",
       "16       US   24         1  Direct                    3          0\n",
       "17  Germany   18         1     Seo                    6          0\n",
       "18       US   20         1     Ads                    2          0\n",
       "19       US   37         0  Direct                    6          0"
      ]
     },
     "metadata": {},
     "output_type": "display_data"
    }
   ],
   "source": [
    "data.head(20)"
   ]
  },
  {
   "cell_type": "code",
   "execution_count": null,
   "id": "83f4e8d3",
   "metadata": {},
   "outputs": [],
   "source": [
    "# The dataset is quite big : you must create a sample of the dataset before making any visualizations !\n",
    "data_sample = data.sample(10000, random_state=444719)"
   ]
  },
  {
   "cell_type": "code",
   "execution_count": null,
   "id": "9b36496b",
   "metadata": {},
   "outputs": [
    {
     "data": {
      "text/html": [
       "<div>\n",
       "<style scoped>\n",
       "    .dataframe tbody tr th:only-of-type {\n",
       "        vertical-align: middle;\n",
       "    }\n",
       "\n",
       "    .dataframe tbody tr th {\n",
       "        vertical-align: top;\n",
       "    }\n",
       "\n",
       "    .dataframe thead th {\n",
       "        text-align: right;\n",
       "    }\n",
       "</style>\n",
       "<table border=\"1\" class=\"dataframe\">\n",
       "  <thead>\n",
       "    <tr style=\"text-align: right;\">\n",
       "      <th></th>\n",
       "      <th>country</th>\n",
       "      <th>age</th>\n",
       "      <th>new_user</th>\n",
       "      <th>source</th>\n",
       "      <th>total_pages_visited</th>\n",
       "      <th>converted</th>\n",
       "    </tr>\n",
       "  </thead>\n",
       "  <tbody>\n",
       "    <tr>\n",
       "      <th>count</th>\n",
       "      <td>284580</td>\n",
       "      <td>284580.000000</td>\n",
       "      <td>284580.000000</td>\n",
       "      <td>284580</td>\n",
       "      <td>284580.000000</td>\n",
       "      <td>284580.000000</td>\n",
       "    </tr>\n",
       "    <tr>\n",
       "      <th>unique</th>\n",
       "      <td>4</td>\n",
       "      <td>NaN</td>\n",
       "      <td>NaN</td>\n",
       "      <td>3</td>\n",
       "      <td>NaN</td>\n",
       "      <td>NaN</td>\n",
       "    </tr>\n",
       "    <tr>\n",
       "      <th>top</th>\n",
       "      <td>US</td>\n",
       "      <td>NaN</td>\n",
       "      <td>NaN</td>\n",
       "      <td>Seo</td>\n",
       "      <td>NaN</td>\n",
       "      <td>NaN</td>\n",
       "    </tr>\n",
       "    <tr>\n",
       "      <th>freq</th>\n",
       "      <td>160124</td>\n",
       "      <td>NaN</td>\n",
       "      <td>NaN</td>\n",
       "      <td>139477</td>\n",
       "      <td>NaN</td>\n",
       "      <td>NaN</td>\n",
       "    </tr>\n",
       "    <tr>\n",
       "      <th>mean</th>\n",
       "      <td>NaN</td>\n",
       "      <td>30.564203</td>\n",
       "      <td>0.685452</td>\n",
       "      <td>NaN</td>\n",
       "      <td>4.873252</td>\n",
       "      <td>0.032258</td>\n",
       "    </tr>\n",
       "    <tr>\n",
       "      <th>std</th>\n",
       "      <td>NaN</td>\n",
       "      <td>8.266789</td>\n",
       "      <td>0.464336</td>\n",
       "      <td>NaN</td>\n",
       "      <td>3.341995</td>\n",
       "      <td>0.176685</td>\n",
       "    </tr>\n",
       "    <tr>\n",
       "      <th>min</th>\n",
       "      <td>NaN</td>\n",
       "      <td>17.000000</td>\n",
       "      <td>0.000000</td>\n",
       "      <td>NaN</td>\n",
       "      <td>1.000000</td>\n",
       "      <td>0.000000</td>\n",
       "    </tr>\n",
       "    <tr>\n",
       "      <th>25%</th>\n",
       "      <td>NaN</td>\n",
       "      <td>24.000000</td>\n",
       "      <td>0.000000</td>\n",
       "      <td>NaN</td>\n",
       "      <td>2.000000</td>\n",
       "      <td>0.000000</td>\n",
       "    </tr>\n",
       "    <tr>\n",
       "      <th>50%</th>\n",
       "      <td>NaN</td>\n",
       "      <td>30.000000</td>\n",
       "      <td>1.000000</td>\n",
       "      <td>NaN</td>\n",
       "      <td>4.000000</td>\n",
       "      <td>0.000000</td>\n",
       "    </tr>\n",
       "    <tr>\n",
       "      <th>75%</th>\n",
       "      <td>NaN</td>\n",
       "      <td>36.000000</td>\n",
       "      <td>1.000000</td>\n",
       "      <td>NaN</td>\n",
       "      <td>7.000000</td>\n",
       "      <td>0.000000</td>\n",
       "    </tr>\n",
       "    <tr>\n",
       "      <th>max</th>\n",
       "      <td>NaN</td>\n",
       "      <td>123.000000</td>\n",
       "      <td>1.000000</td>\n",
       "      <td>NaN</td>\n",
       "      <td>29.000000</td>\n",
       "      <td>1.000000</td>\n",
       "    </tr>\n",
       "  </tbody>\n",
       "</table>\n",
       "</div>"
      ],
      "text/plain": [
       "       country            age       new_user  source  total_pages_visited  \\\n",
       "count   284580  284580.000000  284580.000000  284580        284580.000000   \n",
       "unique       4            NaN            NaN       3                  NaN   \n",
       "top         US            NaN            NaN     Seo                  NaN   \n",
       "freq    160124            NaN            NaN  139477                  NaN   \n",
       "mean       NaN      30.564203       0.685452     NaN             4.873252   \n",
       "std        NaN       8.266789       0.464336     NaN             3.341995   \n",
       "min        NaN      17.000000       0.000000     NaN             1.000000   \n",
       "25%        NaN      24.000000       0.000000     NaN             2.000000   \n",
       "50%        NaN      30.000000       1.000000     NaN             4.000000   \n",
       "75%        NaN      36.000000       1.000000     NaN             7.000000   \n",
       "max        NaN     123.000000       1.000000     NaN            29.000000   \n",
       "\n",
       "            converted  \n",
       "count   284580.000000  \n",
       "unique            NaN  \n",
       "top               NaN  \n",
       "freq              NaN  \n",
       "mean         0.032258  \n",
       "std          0.176685  \n",
       "min          0.000000  \n",
       "25%          0.000000  \n",
       "50%          0.000000  \n",
       "75%          0.000000  \n",
       "max          1.000000  "
      ]
     },
     "metadata": {},
     "output_type": "display_data"
    }
   ],
   "source": [
    "data.describe(include=\"all\")"
   ]
  },
  {
   "cell_type": "code",
   "execution_count": null,
   "id": "f4459075",
   "metadata": {},
   "outputs": [
    {
     "data": {
      "text/plain": [
       "country\n",
       "US         160124\n",
       "China       69122\n",
       "UK          43641\n",
       "Germany     11693\n",
       "Name: count, dtype: int64"
      ]
     },
     "metadata": {},
     "output_type": "display_data"
    }
   ],
   "source": [
    "data[\"country\"].value_counts()"
   ]
  },
  {
   "cell_type": "code",
   "execution_count": null,
   "id": "864f38ed",
   "metadata": {},
   "outputs": [
    {
     "data": {
      "text/plain": [
       "new_user\n",
       "1    195066\n",
       "0     89514\n",
       "Name: count, dtype: int64"
      ]
     },
     "metadata": {},
     "output_type": "display_data"
    }
   ],
   "source": [
    "data[\"new_user\"].value_counts()"
   ]
  },
  {
   "cell_type": "code",
   "execution_count": null,
   "id": "3920d702",
   "metadata": {},
   "outputs": [
    {
     "data": {
      "text/plain": [
       "source\n",
       "Seo       139477\n",
       "Ads        80027\n",
       "Direct     65076\n",
       "Name: count, dtype: int64"
      ]
     },
     "metadata": {},
     "output_type": "display_data"
    }
   ],
   "source": [
    "data[\"source\"].value_counts()"
   ]
  },
  {
   "cell_type": "code",
   "execution_count": null,
   "id": "6e7bc988",
   "metadata": {},
   "outputs": [
    {
     "data": {
      "text/plain": [
       "converted\n",
       "0    275400\n",
       "1      9180\n",
       "Name: count, dtype: int64"
      ]
     },
     "metadata": {},
     "output_type": "display_data"
    }
   ],
   "source": [
    "data[\"converted\"].value_counts()"
   ]
  },
  {
   "cell_type": "code",
   "execution_count": null,
   "id": "bf66f75b",
   "metadata": {},
   "outputs": [
    {
     "data": {
      "application/vnd.plotly.v1+json": {
       "config": {
        "plotlyServerURL": "https://plot.ly"
       },
       "data": [
        {
         "bingroup": "x",
         "hovertemplate": "variable=age<br>value=%{x}<br>count=%{y}<extra></extra>",
         "legendgroup": "age",
         "marker": {
          "color": "#636efa",
          "pattern": {
           "shape": ""
          }
         },
         "name": "age",
         "orientation": "v",
         "showlegend": true,
         "type": "histogram",
         "x": {
          "bdata": "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",
          "dtype": "i1"
         },
         "xaxis": "x",
         "yaxis": "y"
        }
       ],
       "layout": {
        "barmode": "relative",
        "legend": {
         "title": {
          "text": "variable"
         },
         "tracegroupgap": 0
        },
        "margin": {
         "t": 60
        },
        "template": {
         "data": {
          "bar": [
           {
            "error_x": {
             "color": "#2a3f5f"
            },
            "error_y": {
             "color": "#2a3f5f"
            },
            "marker": {
             "line": {
              "color": "#E5ECF6",
              "width": 0.5
             },
             "pattern": {
              "fillmode": "overlay",
              "size": 10,
              "solidity": 0.2
             }
            },
            "type": "bar"
           }
          ],
          "barpolar": [
           {
            "marker": {
             "line": {
              "color": "#E5ECF6",
              "width": 0.5
             },
             "pattern": {
              "fillmode": "overlay",
              "size": 10,
              "solidity": 0.2
             }
            },
            "type": "barpolar"
           }
          ],
          "carpet": [
           {
            "aaxis": {
             "endlinecolor": "#2a3f5f",
             "gridcolor": "white",
             "linecolor": "white",
             "minorgridcolor": "white",
             "startlinecolor": "#2a3f5f"
            },
            "baxis": {
             "endlinecolor": "#2a3f5f",
             "gridcolor": "white",
             "linecolor": "white",
             "minorgridcolor": "white",
             "startlinecolor": "#2a3f5f"
            },
            "type": "carpet"
           }
          ],
          "choropleth": [
           {
            "colorbar": {
             "outlinewidth": 0,
             "ticks": ""
            },
            "type": "choropleth"
           }
          ],
          "contour": [
           {
            "colorbar": {
             "outlinewidth": 0,
             "ticks": ""
            },
            "colorscale": [
             [
              0,
              "#0d0887"
             ],
             [
              0.1111111111111111,
              "#46039f"
             ],
             [
              0.2222222222222222,
              "#7201a8"
             ],
             [
              0.3333333333333333,
              "#9c179e"
             ],
             [
              0.4444444444444444,
              "#bd3786"
             ],
             [
              0.5555555555555556,
              "#d8576b"
             ],
             [
              0.6666666666666666,
              "#ed7953"
             ],
             [
              0.7777777777777778,
              "#fb9f3a"
             ],
             [
              0.8888888888888888,
              "#fdca26"
             ],
             [
              1,
              "#f0f921"
             ]
            ],
            "type": "contour"
           }
          ],
          "contourcarpet": [
           {
            "colorbar": {
             "outlinewidth": 0,
             "ticks": ""
            },
            "type": "contourcarpet"
           }
          ],
          "heatmap": [
           {
            "colorbar": {
             "outlinewidth": 0,
             "ticks": ""
            },
            "colorscale": [
             [
              0,
              "#0d0887"
             ],
             [
              0.1111111111111111,
              "#46039f"
             ],
             [
              0.2222222222222222,
              "#7201a8"
             ],
             [
              0.3333333333333333,
              "#9c179e"
             ],
             [
              0.4444444444444444,
              "#bd3786"
             ],
             [
              0.5555555555555556,
              "#d8576b"
             ],
             [
              0.6666666666666666,
              "#ed7953"
             ],
             [
              0.7777777777777778,
              "#fb9f3a"
             ],
             [
              0.8888888888888888,
              "#fdca26"
             ],
             [
              1,
              "#f0f921"
             ]
            ],
            "type": "heatmap"
           }
          ],
          "histogram": [
           {
            "marker": {
             "pattern": {
              "fillmode": "overlay",
              "size": 10,
              "solidity": 0.2
             }
            },
            "type": "histogram"
           }
          ],
          "histogram2d": [
           {
            "colorbar": {
             "outlinewidth": 0,
             "ticks": ""
            },
            "colorscale": [
             [
              0,
              "#0d0887"
             ],
             [
              0.1111111111111111,
              "#46039f"
             ],
             [
              0.2222222222222222,
              "#7201a8"
             ],
             [
              0.3333333333333333,
              "#9c179e"
             ],
             [
              0.4444444444444444,
              "#bd3786"
             ],
             [
              0.5555555555555556,
              "#d8576b"
             ],
             [
              0.6666666666666666,
              "#ed7953"
             ],
             [
              0.7777777777777778,
              "#fb9f3a"
             ],
             [
              0.8888888888888888,
              "#fdca26"
             ],
             [
              1,
              "#f0f921"
             ]
            ],
            "type": "histogram2d"
           }
          ],
          "histogram2dcontour": [
           {
            "colorbar": {
             "outlinewidth": 0,
             "ticks": ""
            },
            "colorscale": [
             [
              0,
              "#0d0887"
             ],
             [
              0.1111111111111111,
              "#46039f"
             ],
             [
              0.2222222222222222,
              "#7201a8"
             ],
             [
              0.3333333333333333,
              "#9c179e"
             ],
             [
              0.4444444444444444,
              "#bd3786"
             ],
             [
              0.5555555555555556,
              "#d8576b"
             ],
             [
              0.6666666666666666,
              "#ed7953"
             ],
             [
              0.7777777777777778,
              "#fb9f3a"
             ],
             [
              0.8888888888888888,
              "#fdca26"
             ],
             [
              1,
              "#f0f921"
             ]
            ],
            "type": "histogram2dcontour"
           }
          ],
          "mesh3d": [
           {
            "colorbar": {
             "outlinewidth": 0,
             "ticks": ""
            },
            "type": "mesh3d"
           }
          ],
          "parcoords": [
           {
            "line": {
             "colorbar": {
              "outlinewidth": 0,
              "ticks": ""
             }
            },
            "type": "parcoords"
           }
          ],
          "pie": [
           {
            "automargin": true,
            "type": "pie"
           }
          ],
          "scatter": [
           {
            "fillpattern": {
             "fillmode": "overlay",
             "size": 10,
             "solidity": 0.2
            },
            "type": "scatter"
           }
          ],
          "scatter3d": [
           {
            "line": {
             "colorbar": {
              "outlinewidth": 0,
              "ticks": ""
             }
            },
            "marker": {
             "colorbar": {
              "outlinewidth": 0,
              "ticks": ""
             }
            },
            "type": "scatter3d"
           }
          ],
          "scattercarpet": [
           {
            "marker": {
             "colorbar": {
              "outlinewidth": 0,
              "ticks": ""
             }
            },
            "type": "scattercarpet"
           }
          ],
          "scattergeo": [
           {
            "marker": {
             "colorbar": {
              "outlinewidth": 0,
              "ticks": ""
             }
            },
            "type": "scattergeo"
           }
          ],
          "scattergl": [
           {
            "marker": {
             "colorbar": {
              "outlinewidth": 0,
              "ticks": ""
             }
            },
            "type": "scattergl"
           }
          ],
          "scattermap": [
           {
            "marker": {
             "colorbar": {
              "outlinewidth": 0,
              "ticks": ""
             }
            },
            "type": "scattermap"
           }
          ],
          "scattermapbox": [
           {
            "marker": {
             "colorbar": {
              "outlinewidth": 0,
              "ticks": ""
             }
            },
            "type": "scattermapbox"
           }
          ],
          "scatterpolar": [
           {
            "marker": {
             "colorbar": {
              "outlinewidth": 0,
              "ticks": ""
             }
            },
            "type": "scatterpolar"
           }
          ],
          "scatterpolargl": [
           {
            "marker": {
             "colorbar": {
              "outlinewidth": 0,
              "ticks": ""
             }
            },
            "type": "scatterpolargl"
           }
          ],
          "scatterternary": [
           {
            "marker": {
             "colorbar": {
              "outlinewidth": 0,
              "ticks": ""
             }
            },
            "type": "scatterternary"
           }
          ],
          "surface": [
           {
            "colorbar": {
             "outlinewidth": 0,
             "ticks": ""
            },
            "colorscale": [
             [
              0,
              "#0d0887"
             ],
             [
              0.1111111111111111,
              "#46039f"
             ],
             [
              0.2222222222222222,
              "#7201a8"
             ],
             [
              0.3333333333333333,
              "#9c179e"
             ],
             [
              0.4444444444444444,
              "#bd3786"
             ],
             [
              0.5555555555555556,
              "#d8576b"
             ],
             [
              0.6666666666666666,
              "#ed7953"
             ],
             [
              0.7777777777777778,
              "#fb9f3a"
             ],
             [
              0.8888888888888888,
              "#fdca26"
             ],
             [
              1,
              "#f0f921"
             ]
            ],
            "type": "surface"
           }
          ],
          "table": [
           {
            "cells": {
             "fill": {
              "color": "#EBF0F8"
             },
             "line": {
              "color": "white"
             }
            },
            "header": {
             "fill": {
              "color": "#C8D4E3"
             },
             "line": {
              "color": "white"
             }
            },
            "type": "table"
           }
          ]
         },
         "layout": {
          "annotationdefaults": {
           "arrowcolor": "#2a3f5f",
           "arrowhead": 0,
           "arrowwidth": 1
          },
          "autotypenumbers": "strict",
          "coloraxis": {
           "colorbar": {
            "outlinewidth": 0,
            "ticks": ""
           }
          },
          "colorscale": {
           "diverging": [
            [
             0,
             "#8e0152"
            ],
            [
             0.1,
             "#c51b7d"
            ],
            [
             0.2,
             "#de77ae"
            ],
            [
             0.3,
             "#f1b6da"
            ],
            [
             0.4,
             "#fde0ef"
            ],
            [
             0.5,
             "#f7f7f7"
            ],
            [
             0.6,
             "#e6f5d0"
            ],
            [
             0.7,
             "#b8e186"
            ],
            [
             0.8,
             "#7fbc41"
            ],
            [
             0.9,
             "#4d9221"
            ],
            [
             1,
             "#276419"
            ]
           ],
           "sequential": [
            [
             0,
             "#0d0887"
            ],
            [
             0.1111111111111111,
             "#46039f"
            ],
            [
             0.2222222222222222,
             "#7201a8"
            ],
            [
             0.3333333333333333,
             "#9c179e"
            ],
            [
             0.4444444444444444,
             "#bd3786"
            ],
            [
             0.5555555555555556,
             "#d8576b"
            ],
            [
             0.6666666666666666,
             "#ed7953"
            ],
            [
             0.7777777777777778,
             "#fb9f3a"
            ],
            [
             0.8888888888888888,
             "#fdca26"
            ],
            [
             1,
             "#f0f921"
            ]
           ],
           "sequentialminus": [
            [
             0,
             "#0d0887"
            ],
            [
             0.1111111111111111,
             "#46039f"
            ],
            [
             0.2222222222222222,
             "#7201a8"
            ],
            [
             0.3333333333333333,
             "#9c179e"
            ],
            [
             0.4444444444444444,
             "#bd3786"
            ],
            [
             0.5555555555555556,
             "#d8576b"
            ],
            [
             0.6666666666666666,
             "#ed7953"
            ],
            [
             0.7777777777777778,
             "#fb9f3a"
            ],
            [
             0.8888888888888888,
             "#fdca26"
            ],
            [
             1,
             "#f0f921"
            ]
           ]
          },
          "colorway": [
           "#636efa",
           "#EF553B",
           "#00cc96",
           "#ab63fa",
           "#FFA15A",
           "#19d3f3",
           "#FF6692",
           "#B6E880",
           "#FF97FF",
           "#FECB52"
          ],
          "font": {
           "color": "#2a3f5f"
          },
          "geo": {
           "bgcolor": "white",
           "lakecolor": "white",
           "landcolor": "#E5ECF6",
           "showlakes": true,
           "showland": true,
           "subunitcolor": "white"
          },
          "hoverlabel": {
           "align": "left"
          },
          "hovermode": "closest",
          "mapbox": {
           "style": "light"
          },
          "paper_bgcolor": "white",
          "plot_bgcolor": "#E5ECF6",
          "polar": {
           "angularaxis": {
            "gridcolor": "white",
            "linecolor": "white",
            "ticks": ""
           },
           "bgcolor": "#E5ECF6",
           "radialaxis": {
            "gridcolor": "white",
            "linecolor": "white",
            "ticks": ""
           }
          },
          "scene": {
           "xaxis": {
            "backgroundcolor": "#E5ECF6",
            "gridcolor": "white",
            "gridwidth": 2,
            "linecolor": "white",
            "showbackground": true,
            "ticks": "",
            "zerolinecolor": "white"
           },
           "yaxis": {
            "backgroundcolor": "#E5ECF6",
            "gridcolor": "white",
            "gridwidth": 2,
            "linecolor": "white",
            "showbackground": true,
            "ticks": "",
            "zerolinecolor": "white"
           },
           "zaxis": {
            "backgroundcolor": "#E5ECF6",
            "gridcolor": "white",
            "gridwidth": 2,
            "linecolor": "white",
            "showbackground": true,
            "ticks": "",
            "zerolinecolor": "white"
           }
          },
          "shapedefaults": {
           "line": {
            "color": "#2a3f5f"
           }
          },
          "ternary": {
           "aaxis": {
            "gridcolor": "white",
            "linecolor": "white",
            "ticks": ""
           },
           "baxis": {
            "gridcolor": "white",
            "linecolor": "white",
            "ticks": ""
           },
           "bgcolor": "#E5ECF6",
           "caxis": {
            "gridcolor": "white",
            "linecolor": "white",
            "ticks": ""
           }
          },
          "title": {
           "x": 0.05
          },
          "xaxis": {
           "automargin": true,
           "gridcolor": "white",
           "linecolor": "white",
           "ticks": "",
           "title": {
            "standoff": 15
           },
           "zerolinecolor": "white",
           "zerolinewidth": 2
          },
          "yaxis": {
           "automargin": true,
           "gridcolor": "white",
           "linecolor": "white",
           "ticks": "",
           "title": {
            "standoff": 15
           },
           "zerolinecolor": "white",
           "zerolinewidth": 2
          }
         }
        },
        "xaxis": {
         "anchor": "y",
         "domain": [
          0,
          1
         ],
         "title": {
          "text": "value"
         }
        },
        "yaxis": {
         "anchor": "x",
         "domain": [
          0,
          1
         ],
         "title": {
          "text": "count"
         }
        }
       }
      }
     },
     "metadata": {},
     "output_type": "display_data"
    }
   ],
   "source": [
    "fig = px.histogram(data_sample[\"age\"])\n",
    "fig.show()"
   ]
  },
  {
   "cell_type": "code",
   "execution_count": null,
   "id": "ba97c73d",
   "metadata": {},
   "outputs": [
    {
     "data": {
      "application/vnd.plotly.v1+json": {
       "config": {
        "plotlyServerURL": "https://plot.ly"
       },
       "data": [
        {
         "bingroup": "x",
         "hovertemplate": "variable=total_pages_visited<br>value=%{x}<br>count=%{y}<extra></extra>",
         "legendgroup": "total_pages_visited",
         "marker": {
          "color": "#636efa",
          "pattern": {
           "shape": ""
          }
         },
         "name": "total_pages_visited",
         "orientation": "v",
         "showlegend": true,
         "type": "histogram",
         "x": {
          "bdata": "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",
          "dtype": "i1"
         },
         "xaxis": "x",
         "yaxis": "y"
        }
       ],
       "layout": {
        "barmode": "relative",
        "legend": {
         "title": {
          "text": "variable"
         },
         "tracegroupgap": 0
        },
        "margin": {
         "t": 60
        },
        "template": {
         "data": {
          "bar": [
           {
            "error_x": {
             "color": "#2a3f5f"
            },
            "error_y": {
             "color": "#2a3f5f"
            },
            "marker": {
             "line": {
              "color": "#E5ECF6",
              "width": 0.5
             },
             "pattern": {
              "fillmode": "overlay",
              "size": 10,
              "solidity": 0.2
             }
            },
            "type": "bar"
           }
          ],
          "barpolar": [
           {
            "marker": {
             "line": {
              "color": "#E5ECF6",
              "width": 0.5
             },
             "pattern": {
              "fillmode": "overlay",
              "size": 10,
              "solidity": 0.2
             }
            },
            "type": "barpolar"
           }
          ],
          "carpet": [
           {
            "aaxis": {
             "endlinecolor": "#2a3f5f",
             "gridcolor": "white",
             "linecolor": "white",
             "minorgridcolor": "white",
             "startlinecolor": "#2a3f5f"
            },
            "baxis": {
             "endlinecolor": "#2a3f5f",
             "gridcolor": "white",
             "linecolor": "white",
             "minorgridcolor": "white",
             "startlinecolor": "#2a3f5f"
            },
            "type": "carpet"
           }
          ],
          "choropleth": [
           {
            "colorbar": {
             "outlinewidth": 0,
             "ticks": ""
            },
            "type": "choropleth"
           }
          ],
          "contour": [
           {
            "colorbar": {
             "outlinewidth": 0,
             "ticks": ""
            },
            "colorscale": [
             [
              0,
              "#0d0887"
             ],
             [
              0.1111111111111111,
              "#46039f"
             ],
             [
              0.2222222222222222,
              "#7201a8"
             ],
             [
              0.3333333333333333,
              "#9c179e"
             ],
             [
              0.4444444444444444,
              "#bd3786"
             ],
             [
              0.5555555555555556,
              "#d8576b"
             ],
             [
              0.6666666666666666,
              "#ed7953"
             ],
             [
              0.7777777777777778,
              "#fb9f3a"
             ],
             [
              0.8888888888888888,
              "#fdca26"
             ],
             [
              1,
              "#f0f921"
             ]
            ],
            "type": "contour"
           }
          ],
          "contourcarpet": [
           {
            "colorbar": {
             "outlinewidth": 0,
             "ticks": ""
            },
            "type": "contourcarpet"
           }
          ],
          "heatmap": [
           {
            "colorbar": {
             "outlinewidth": 0,
             "ticks": ""
            },
            "colorscale": [
             [
              0,
              "#0d0887"
             ],
             [
              0.1111111111111111,
              "#46039f"
             ],
             [
              0.2222222222222222,
              "#7201a8"
             ],
             [
              0.3333333333333333,
              "#9c179e"
             ],
             [
              0.4444444444444444,
              "#bd3786"
             ],
             [
              0.5555555555555556,
              "#d8576b"
             ],
             [
              0.6666666666666666,
              "#ed7953"
             ],
             [
              0.7777777777777778,
              "#fb9f3a"
             ],
             [
              0.8888888888888888,
              "#fdca26"
             ],
             [
              1,
              "#f0f921"
             ]
            ],
            "type": "heatmap"
           }
          ],
          "histogram": [
           {
            "marker": {
             "pattern": {
              "fillmode": "overlay",
              "size": 10,
              "solidity": 0.2
             }
            },
            "type": "histogram"
           }
          ],
          "histogram2d": [
           {
            "colorbar": {
             "outlinewidth": 0,
             "ticks": ""
            },
            "colorscale": [
             [
              0,
              "#0d0887"
             ],
             [
              0.1111111111111111,
              "#46039f"
             ],
             [
              0.2222222222222222,
              "#7201a8"
             ],
             [
              0.3333333333333333,
              "#9c179e"
             ],
             [
              0.4444444444444444,
              "#bd3786"
             ],
             [
              0.5555555555555556,
              "#d8576b"
             ],
             [
              0.6666666666666666,
              "#ed7953"
             ],
             [
              0.7777777777777778,
              "#fb9f3a"
             ],
             [
              0.8888888888888888,
              "#fdca26"
             ],
             [
              1,
              "#f0f921"
             ]
            ],
            "type": "histogram2d"
           }
          ],
          "histogram2dcontour": [
           {
            "colorbar": {
             "outlinewidth": 0,
             "ticks": ""
            },
            "colorscale": [
             [
              0,
              "#0d0887"
             ],
             [
              0.1111111111111111,
              "#46039f"
             ],
             [
              0.2222222222222222,
              "#7201a8"
             ],
             [
              0.3333333333333333,
              "#9c179e"
             ],
             [
              0.4444444444444444,
              "#bd3786"
             ],
             [
              0.5555555555555556,
              "#d8576b"
             ],
             [
              0.6666666666666666,
              "#ed7953"
             ],
             [
              0.7777777777777778,
              "#fb9f3a"
             ],
             [
              0.8888888888888888,
              "#fdca26"
             ],
             [
              1,
              "#f0f921"
             ]
            ],
            "type": "histogram2dcontour"
           }
          ],
          "mesh3d": [
           {
            "colorbar": {
             "outlinewidth": 0,
             "ticks": ""
            },
            "type": "mesh3d"
           }
          ],
          "parcoords": [
           {
            "line": {
             "colorbar": {
              "outlinewidth": 0,
              "ticks": ""
             }
            },
            "type": "parcoords"
           }
          ],
          "pie": [
           {
            "automargin": true,
            "type": "pie"
           }
          ],
          "scatter": [
           {
            "fillpattern": {
             "fillmode": "overlay",
             "size": 10,
             "solidity": 0.2
            },
            "type": "scatter"
           }
          ],
          "scatter3d": [
           {
            "line": {
             "colorbar": {
              "outlinewidth": 0,
              "ticks": ""
             }
            },
            "marker": {
             "colorbar": {
              "outlinewidth": 0,
              "ticks": ""
             }
            },
            "type": "scatter3d"
           }
          ],
          "scattercarpet": [
           {
            "marker": {
             "colorbar": {
              "outlinewidth": 0,
              "ticks": ""
             }
            },
            "type": "scattercarpet"
           }
          ],
          "scattergeo": [
           {
            "marker": {
             "colorbar": {
              "outlinewidth": 0,
              "ticks": ""
             }
            },
            "type": "scattergeo"
           }
          ],
          "scattergl": [
           {
            "marker": {
             "colorbar": {
              "outlinewidth": 0,
              "ticks": ""
             }
            },
            "type": "scattergl"
           }
          ],
          "scattermap": [
           {
            "marker": {
             "colorbar": {
              "outlinewidth": 0,
              "ticks": ""
             }
            },
            "type": "scattermap"
           }
          ],
          "scattermapbox": [
           {
            "marker": {
             "colorbar": {
              "outlinewidth": 0,
              "ticks": ""
             }
            },
            "type": "scattermapbox"
           }
          ],
          "scatterpolar": [
           {
            "marker": {
             "colorbar": {
              "outlinewidth": 0,
              "ticks": ""
             }
            },
            "type": "scatterpolar"
           }
          ],
          "scatterpolargl": [
           {
            "marker": {
             "colorbar": {
              "outlinewidth": 0,
              "ticks": ""
             }
            },
            "type": "scatterpolargl"
           }
          ],
          "scatterternary": [
           {
            "marker": {
             "colorbar": {
              "outlinewidth": 0,
              "ticks": ""
             }
            },
            "type": "scatterternary"
           }
          ],
          "surface": [
           {
            "colorbar": {
             "outlinewidth": 0,
             "ticks": ""
            },
            "colorscale": [
             [
              0,
              "#0d0887"
             ],
             [
              0.1111111111111111,
              "#46039f"
             ],
             [
              0.2222222222222222,
              "#7201a8"
             ],
             [
              0.3333333333333333,
              "#9c179e"
             ],
             [
              0.4444444444444444,
              "#bd3786"
             ],
             [
              0.5555555555555556,
              "#d8576b"
             ],
             [
              0.6666666666666666,
              "#ed7953"
             ],
             [
              0.7777777777777778,
              "#fb9f3a"
             ],
             [
              0.8888888888888888,
              "#fdca26"
             ],
             [
              1,
              "#f0f921"
             ]
            ],
            "type": "surface"
           }
          ],
          "table": [
           {
            "cells": {
             "fill": {
              "color": "#EBF0F8"
             },
             "line": {
              "color": "white"
             }
            },
            "header": {
             "fill": {
              "color": "#C8D4E3"
             },
             "line": {
              "color": "white"
             }
            },
            "type": "table"
           }
          ]
         },
         "layout": {
          "annotationdefaults": {
           "arrowcolor": "#2a3f5f",
           "arrowhead": 0,
           "arrowwidth": 1
          },
          "autotypenumbers": "strict",
          "coloraxis": {
           "colorbar": {
            "outlinewidth": 0,
            "ticks": ""
           }
          },
          "colorscale": {
           "diverging": [
            [
             0,
             "#8e0152"
            ],
            [
             0.1,
             "#c51b7d"
            ],
            [
             0.2,
             "#de77ae"
            ],
            [
             0.3,
             "#f1b6da"
            ],
            [
             0.4,
             "#fde0ef"
            ],
            [
             0.5,
             "#f7f7f7"
            ],
            [
             0.6,
             "#e6f5d0"
            ],
            [
             0.7,
             "#b8e186"
            ],
            [
             0.8,
             "#7fbc41"
            ],
            [
             0.9,
             "#4d9221"
            ],
            [
             1,
             "#276419"
            ]
           ],
           "sequential": [
            [
             0,
             "#0d0887"
            ],
            [
             0.1111111111111111,
             "#46039f"
            ],
            [
             0.2222222222222222,
             "#7201a8"
            ],
            [
             0.3333333333333333,
             "#9c179e"
            ],
            [
             0.4444444444444444,
             "#bd3786"
            ],
            [
             0.5555555555555556,
             "#d8576b"
            ],
            [
             0.6666666666666666,
             "#ed7953"
            ],
            [
             0.7777777777777778,
             "#fb9f3a"
            ],
            [
             0.8888888888888888,
             "#fdca26"
            ],
            [
             1,
             "#f0f921"
            ]
           ],
           "sequentialminus": [
            [
             0,
             "#0d0887"
            ],
            [
             0.1111111111111111,
             "#46039f"
            ],
            [
             0.2222222222222222,
             "#7201a8"
            ],
            [
             0.3333333333333333,
             "#9c179e"
            ],
            [
             0.4444444444444444,
             "#bd3786"
            ],
            [
             0.5555555555555556,
             "#d8576b"
            ],
            [
             0.6666666666666666,
             "#ed7953"
            ],
            [
             0.7777777777777778,
             "#fb9f3a"
            ],
            [
             0.8888888888888888,
             "#fdca26"
            ],
            [
             1,
             "#f0f921"
            ]
           ]
          },
          "colorway": [
           "#636efa",
           "#EF553B",
           "#00cc96",
           "#ab63fa",
           "#FFA15A",
           "#19d3f3",
           "#FF6692",
           "#B6E880",
           "#FF97FF",
           "#FECB52"
          ],
          "font": {
           "color": "#2a3f5f"
          },
          "geo": {
           "bgcolor": "white",
           "lakecolor": "white",
           "landcolor": "#E5ECF6",
           "showlakes": true,
           "showland": true,
           "subunitcolor": "white"
          },
          "hoverlabel": {
           "align": "left"
          },
          "hovermode": "closest",
          "mapbox": {
           "style": "light"
          },
          "paper_bgcolor": "white",
          "plot_bgcolor": "#E5ECF6",
          "polar": {
           "angularaxis": {
            "gridcolor": "white",
            "linecolor": "white",
            "ticks": ""
           },
           "bgcolor": "#E5ECF6",
           "radialaxis": {
            "gridcolor": "white",
            "linecolor": "white",
            "ticks": ""
           }
          },
          "scene": {
           "xaxis": {
            "backgroundcolor": "#E5ECF6",
            "gridcolor": "white",
            "gridwidth": 2,
            "linecolor": "white",
            "showbackground": true,
            "ticks": "",
            "zerolinecolor": "white"
           },
           "yaxis": {
            "backgroundcolor": "#E5ECF6",
            "gridcolor": "white",
            "gridwidth": 2,
            "linecolor": "white",
            "showbackground": true,
            "ticks": "",
            "zerolinecolor": "white"
           },
           "zaxis": {
            "backgroundcolor": "#E5ECF6",
            "gridcolor": "white",
            "gridwidth": 2,
            "linecolor": "white",
            "showbackground": true,
            "ticks": "",
            "zerolinecolor": "white"
           }
          },
          "shapedefaults": {
           "line": {
            "color": "#2a3f5f"
           }
          },
          "ternary": {
           "aaxis": {
            "gridcolor": "white",
            "linecolor": "white",
            "ticks": ""
           },
           "baxis": {
            "gridcolor": "white",
            "linecolor": "white",
            "ticks": ""
           },
           "bgcolor": "#E5ECF6",
           "caxis": {
            "gridcolor": "white",
            "linecolor": "white",
            "ticks": ""
           }
          },
          "title": {
           "x": 0.05
          },
          "xaxis": {
           "automargin": true,
           "gridcolor": "white",
           "linecolor": "white",
           "ticks": "",
           "title": {
            "standoff": 15
           },
           "zerolinecolor": "white",
           "zerolinewidth": 2
          },
          "yaxis": {
           "automargin": true,
           "gridcolor": "white",
           "linecolor": "white",
           "ticks": "",
           "title": {
            "standoff": 15
           },
           "zerolinecolor": "white",
           "zerolinewidth": 2
          }
         }
        },
        "xaxis": {
         "anchor": "y",
         "domain": [
          0,
          1
         ],
         "title": {
          "text": "value"
         }
        },
        "yaxis": {
         "anchor": "x",
         "domain": [
          0,
          1
         ],
         "title": {
          "text": "count"
         }
        }
       }
      }
     },
     "metadata": {},
     "output_type": "display_data"
    }
   ],
   "source": [
    "fig = px.histogram(data_sample[\"total_pages_visited\"])\n",
    "fig.show()"
   ]
  },
  {
   "cell_type": "code",
   "execution_count": null,
   "id": "887ff3fd",
   "metadata": {},
   "outputs": [
    {
     "data": {
      "text/plain": [
       "country                0\n",
       "age                    0\n",
       "new_user               0\n",
       "source                 0\n",
       "total_pages_visited    0\n",
       "converted              0\n",
       "dtype: int64"
      ]
     },
     "metadata": {},
     "output_type": "display_data"
    }
   ],
   "source": [
    "data.isna().sum()"
   ]
  },
  {
   "cell_type": "code",
   "execution_count": null,
   "id": "b66f2b7c",
   "metadata": {},
   "outputs": [
    {
     "data": {
      "application/vnd.plotly.v1+json": {
       "config": {
        "plotlyServerURL": "https://plot.ly"
       },
       "data": [
        {
         "coloraxis": "coloraxis",
         "hovertemplate": "x: %{x}<br>y: %{y}<br>color: %{z}<extra></extra>",
         "name": "0",
         "texttemplate": "%{z}",
         "type": "heatmap",
         "x": [
          "converted",
          "age",
          "total_pages_visited",
          "new_user"
         ],
         "xaxis": "x",
         "y": [
          "converted",
          "age",
          "total_pages_visited",
          "new_user"
         ],
         "yaxis": "y",
         "z": {
          "bdata": "AAAAAAAA8D/Ejxaa/k2zvxON4OcgkOA/Xphw674yw7/Ejxaa/k2zvwAAAAAAAPA/9ORJEin3pL8t+gm4dxWSPxON4OcgkOA/9ORJEin3pL8AAAAAAADwP+prUq3FkrW/Xphw674yw78t+gm4dxWSP+prUq3FkrW/AAAAAAAA8D8=",
          "dtype": "f8",
          "shape": "4, 4"
         }
        }
       ],
       "layout": {
        "coloraxis": {
         "colorscale": [
          [
           0,
           "rgb(5,48,97)"
          ],
          [
           0.1,
           "rgb(33,102,172)"
          ],
          [
           0.2,
           "rgb(67,147,195)"
          ],
          [
           0.3,
           "rgb(146,197,222)"
          ],
          [
           0.4,
           "rgb(209,229,240)"
          ],
          [
           0.5,
           "rgb(247,247,247)"
          ],
          [
           0.6,
           "rgb(253,219,199)"
          ],
          [
           0.7,
           "rgb(244,165,130)"
          ],
          [
           0.8,
           "rgb(214,96,77)"
          ],
          [
           0.9,
           "rgb(178,24,43)"
          ],
          [
           1,
           "rgb(103,0,31)"
          ]
         ]
        },
        "template": {
         "data": {
          "bar": [
           {
            "error_x": {
             "color": "#2a3f5f"
            },
            "error_y": {
             "color": "#2a3f5f"
            },
            "marker": {
             "line": {
              "color": "#E5ECF6",
              "width": 0.5
             },
             "pattern": {
              "fillmode": "overlay",
              "size": 10,
              "solidity": 0.2
             }
            },
            "type": "bar"
           }
          ],
          "barpolar": [
           {
            "marker": {
             "line": {
              "color": "#E5ECF6",
              "width": 0.5
             },
             "pattern": {
              "fillmode": "overlay",
              "size": 10,
              "solidity": 0.2
             }
            },
            "type": "barpolar"
           }
          ],
          "carpet": [
           {
            "aaxis": {
             "endlinecolor": "#2a3f5f",
             "gridcolor": "white",
             "linecolor": "white",
             "minorgridcolor": "white",
             "startlinecolor": "#2a3f5f"
            },
            "baxis": {
             "endlinecolor": "#2a3f5f",
             "gridcolor": "white",
             "linecolor": "white",
             "minorgridcolor": "white",
             "startlinecolor": "#2a3f5f"
            },
            "type": "carpet"
           }
          ],
          "choropleth": [
           {
            "colorbar": {
             "outlinewidth": 0,
             "ticks": ""
            },
            "type": "choropleth"
           }
          ],
          "contour": [
           {
            "colorbar": {
             "outlinewidth": 0,
             "ticks": ""
            },
            "colorscale": [
             [
              0,
              "#0d0887"
             ],
             [
              0.1111111111111111,
              "#46039f"
             ],
             [
              0.2222222222222222,
              "#7201a8"
             ],
             [
              0.3333333333333333,
              "#9c179e"
             ],
             [
              0.4444444444444444,
              "#bd3786"
             ],
             [
              0.5555555555555556,
              "#d8576b"
             ],
             [
              0.6666666666666666,
              "#ed7953"
             ],
             [
              0.7777777777777778,
              "#fb9f3a"
             ],
             [
              0.8888888888888888,
              "#fdca26"
             ],
             [
              1,
              "#f0f921"
             ]
            ],
            "type": "contour"
           }
          ],
          "contourcarpet": [
           {
            "colorbar": {
             "outlinewidth": 0,
             "ticks": ""
            },
            "type": "contourcarpet"
           }
          ],
          "heatmap": [
           {
            "colorbar": {
             "outlinewidth": 0,
             "ticks": ""
            },
            "colorscale": [
             [
              0,
              "#0d0887"
             ],
             [
              0.1111111111111111,
              "#46039f"
             ],
             [
              0.2222222222222222,
              "#7201a8"
             ],
             [
              0.3333333333333333,
              "#9c179e"
             ],
             [
              0.4444444444444444,
              "#bd3786"
             ],
             [
              0.5555555555555556,
              "#d8576b"
             ],
             [
              0.6666666666666666,
              "#ed7953"
             ],
             [
              0.7777777777777778,
              "#fb9f3a"
             ],
             [
              0.8888888888888888,
              "#fdca26"
             ],
             [
              1,
              "#f0f921"
             ]
            ],
            "type": "heatmap"
           }
          ],
          "histogram": [
           {
            "marker": {
             "pattern": {
              "fillmode": "overlay",
              "size": 10,
              "solidity": 0.2
             }
            },
            "type": "histogram"
           }
          ],
          "histogram2d": [
           {
            "colorbar": {
             "outlinewidth": 0,
             "ticks": ""
            },
            "colorscale": [
             [
              0,
              "#0d0887"
             ],
             [
              0.1111111111111111,
              "#46039f"
             ],
             [
              0.2222222222222222,
              "#7201a8"
             ],
             [
              0.3333333333333333,
              "#9c179e"
             ],
             [
              0.4444444444444444,
              "#bd3786"
             ],
             [
              0.5555555555555556,
              "#d8576b"
             ],
             [
              0.6666666666666666,
              "#ed7953"
             ],
             [
              0.7777777777777778,
              "#fb9f3a"
             ],
             [
              0.8888888888888888,
              "#fdca26"
             ],
             [
              1,
              "#f0f921"
             ]
            ],
            "type": "histogram2d"
           }
          ],
          "histogram2dcontour": [
           {
            "colorbar": {
             "outlinewidth": 0,
             "ticks": ""
            },
            "colorscale": [
             [
              0,
              "#0d0887"
             ],
             [
              0.1111111111111111,
              "#46039f"
             ],
             [
              0.2222222222222222,
              "#7201a8"
             ],
             [
              0.3333333333333333,
              "#9c179e"
             ],
             [
              0.4444444444444444,
              "#bd3786"
             ],
             [
              0.5555555555555556,
              "#d8576b"
             ],
             [
              0.6666666666666666,
              "#ed7953"
             ],
             [
              0.7777777777777778,
              "#fb9f3a"
             ],
             [
              0.8888888888888888,
              "#fdca26"
             ],
             [
              1,
              "#f0f921"
             ]
            ],
            "type": "histogram2dcontour"
           }
          ],
          "mesh3d": [
           {
            "colorbar": {
             "outlinewidth": 0,
             "ticks": ""
            },
            "type": "mesh3d"
           }
          ],
          "parcoords": [
           {
            "line": {
             "colorbar": {
              "outlinewidth": 0,
              "ticks": ""
             }
            },
            "type": "parcoords"
           }
          ],
          "pie": [
           {
            "automargin": true,
            "type": "pie"
           }
          ],
          "scatter": [
           {
            "fillpattern": {
             "fillmode": "overlay",
             "size": 10,
             "solidity": 0.2
            },
            "type": "scatter"
           }
          ],
          "scatter3d": [
           {
            "line": {
             "colorbar": {
              "outlinewidth": 0,
              "ticks": ""
             }
            },
            "marker": {
             "colorbar": {
              "outlinewidth": 0,
              "ticks": ""
             }
            },
            "type": "scatter3d"
           }
          ],
          "scattercarpet": [
           {
            "marker": {
             "colorbar": {
              "outlinewidth": 0,
              "ticks": ""
             }
            },
            "type": "scattercarpet"
           }
          ],
          "scattergeo": [
           {
            "marker": {
             "colorbar": {
              "outlinewidth": 0,
              "ticks": ""
             }
            },
            "type": "scattergeo"
           }
          ],
          "scattergl": [
           {
            "marker": {
             "colorbar": {
              "outlinewidth": 0,
              "ticks": ""
             }
            },
            "type": "scattergl"
           }
          ],
          "scattermap": [
           {
            "marker": {
             "colorbar": {
              "outlinewidth": 0,
              "ticks": ""
             }
            },
            "type": "scattermap"
           }
          ],
          "scattermapbox": [
           {
            "marker": {
             "colorbar": {
              "outlinewidth": 0,
              "ticks": ""
             }
            },
            "type": "scattermapbox"
           }
          ],
          "scatterpolar": [
           {
            "marker": {
             "colorbar": {
              "outlinewidth": 0,
              "ticks": ""
             }
            },
            "type": "scatterpolar"
           }
          ],
          "scatterpolargl": [
           {
            "marker": {
             "colorbar": {
              "outlinewidth": 0,
              "ticks": ""
             }
            },
            "type": "scatterpolargl"
           }
          ],
          "scatterternary": [
           {
            "marker": {
             "colorbar": {
              "outlinewidth": 0,
              "ticks": ""
             }
            },
            "type": "scatterternary"
           }
          ],
          "surface": [
           {
            "colorbar": {
             "outlinewidth": 0,
             "ticks": ""
            },
            "colorscale": [
             [
              0,
              "#0d0887"
             ],
             [
              0.1111111111111111,
              "#46039f"
             ],
             [
              0.2222222222222222,
              "#7201a8"
             ],
             [
              0.3333333333333333,
              "#9c179e"
             ],
             [
              0.4444444444444444,
              "#bd3786"
             ],
             [
              0.5555555555555556,
              "#d8576b"
             ],
             [
              0.6666666666666666,
              "#ed7953"
             ],
             [
              0.7777777777777778,
              "#fb9f3a"
             ],
             [
              0.8888888888888888,
              "#fdca26"
             ],
             [
              1,
              "#f0f921"
             ]
            ],
            "type": "surface"
           }
          ],
          "table": [
           {
            "cells": {
             "fill": {
              "color": "#EBF0F8"
             },
             "line": {
              "color": "white"
             }
            },
            "header": {
             "fill": {
              "color": "#C8D4E3"
             },
             "line": {
              "color": "white"
             }
            },
            "type": "table"
           }
          ]
         },
         "layout": {
          "annotationdefaults": {
           "arrowcolor": "#2a3f5f",
           "arrowhead": 0,
           "arrowwidth": 1
          },
          "autotypenumbers": "strict",
          "coloraxis": {
           "colorbar": {
            "outlinewidth": 0,
            "ticks": ""
           }
          },
          "colorscale": {
           "diverging": [
            [
             0,
             "#8e0152"
            ],
            [
             0.1,
             "#c51b7d"
            ],
            [
             0.2,
             "#de77ae"
            ],
            [
             0.3,
             "#f1b6da"
            ],
            [
             0.4,
             "#fde0ef"
            ],
            [
             0.5,
             "#f7f7f7"
            ],
            [
             0.6,
             "#e6f5d0"
            ],
            [
             0.7,
             "#b8e186"
            ],
            [
             0.8,
             "#7fbc41"
            ],
            [
             0.9,
             "#4d9221"
            ],
            [
             1,
             "#276419"
            ]
           ],
           "sequential": [
            [
             0,
             "#0d0887"
            ],
            [
             0.1111111111111111,
             "#46039f"
            ],
            [
             0.2222222222222222,
             "#7201a8"
            ],
            [
             0.3333333333333333,
             "#9c179e"
            ],
            [
             0.4444444444444444,
             "#bd3786"
            ],
            [
             0.5555555555555556,
             "#d8576b"
            ],
            [
             0.6666666666666666,
             "#ed7953"
            ],
            [
             0.7777777777777778,
             "#fb9f3a"
            ],
            [
             0.8888888888888888,
             "#fdca26"
            ],
            [
             1,
             "#f0f921"
            ]
           ],
           "sequentialminus": [
            [
             0,
             "#0d0887"
            ],
            [
             0.1111111111111111,
             "#46039f"
            ],
            [
             0.2222222222222222,
             "#7201a8"
            ],
            [
             0.3333333333333333,
             "#9c179e"
            ],
            [
             0.4444444444444444,
             "#bd3786"
            ],
            [
             0.5555555555555556,
             "#d8576b"
            ],
            [
             0.6666666666666666,
             "#ed7953"
            ],
            [
             0.7777777777777778,
             "#fb9f3a"
            ],
            [
             0.8888888888888888,
             "#fdca26"
            ],
            [
             1,
             "#f0f921"
            ]
           ]
          },
          "colorway": [
           "#636efa",
           "#EF553B",
           "#00cc96",
           "#ab63fa",
           "#FFA15A",
           "#19d3f3",
           "#FF6692",
           "#B6E880",
           "#FF97FF",
           "#FECB52"
          ],
          "font": {
           "color": "#2a3f5f"
          },
          "geo": {
           "bgcolor": "white",
           "lakecolor": "white",
           "landcolor": "#E5ECF6",
           "showlakes": true,
           "showland": true,
           "subunitcolor": "white"
          },
          "hoverlabel": {
           "align": "left"
          },
          "hovermode": "closest",
          "mapbox": {
           "style": "light"
          },
          "paper_bgcolor": "white",
          "plot_bgcolor": "#E5ECF6",
          "polar": {
           "angularaxis": {
            "gridcolor": "white",
            "linecolor": "white",
            "ticks": ""
           },
           "bgcolor": "#E5ECF6",
           "radialaxis": {
            "gridcolor": "white",
            "linecolor": "white",
            "ticks": ""
           }
          },
          "scene": {
           "xaxis": {
            "backgroundcolor": "#E5ECF6",
            "gridcolor": "white",
            "gridwidth": 2,
            "linecolor": "white",
            "showbackground": true,
            "ticks": "",
            "zerolinecolor": "white"
           },
           "yaxis": {
            "backgroundcolor": "#E5ECF6",
            "gridcolor": "white",
            "gridwidth": 2,
            "linecolor": "white",
            "showbackground": true,
            "ticks": "",
            "zerolinecolor": "white"
           },
           "zaxis": {
            "backgroundcolor": "#E5ECF6",
            "gridcolor": "white",
            "gridwidth": 2,
            "linecolor": "white",
            "showbackground": true,
            "ticks": "",
            "zerolinecolor": "white"
           }
          },
          "shapedefaults": {
           "line": {
            "color": "#2a3f5f"
           }
          },
          "ternary": {
           "aaxis": {
            "gridcolor": "white",
            "linecolor": "white",
            "ticks": ""
           },
           "baxis": {
            "gridcolor": "white",
            "linecolor": "white",
            "ticks": ""
           },
           "bgcolor": "#E5ECF6",
           "caxis": {
            "gridcolor": "white",
            "linecolor": "white",
            "ticks": ""
           }
          },
          "title": {
           "x": 0.05
          },
          "xaxis": {
           "automargin": true,
           "gridcolor": "white",
           "linecolor": "white",
           "ticks": "",
           "title": {
            "standoff": 15
           },
           "zerolinecolor": "white",
           "zerolinewidth": 2
          },
          "yaxis": {
           "automargin": true,
           "gridcolor": "white",
           "linecolor": "white",
           "ticks": "",
           "title": {
            "standoff": 15
           },
           "zerolinecolor": "white",
           "zerolinewidth": 2
          }
         }
        },
        "title": {
         "text": "Correlation Heatmap"
        },
        "xaxis": {
         "anchor": "y",
         "constrain": "domain",
         "domain": [
          0,
          1
         ],
         "scaleanchor": "y"
        },
        "yaxis": {
         "anchor": "x",
         "autorange": "reversed",
         "constrain": "domain",
         "domain": [
          0,
          1
         ]
        }
       }
      }
     },
     "metadata": {},
     "output_type": "display_data"
    }
   ],
   "source": [
    "corr_matrix = data_sample[[\"converted\", \"age\", \"total_pages_visited\", \"new_user\"]].corr()\n",
    "\n",
    "fig = px.imshow(corr_matrix,\n",
    "                text_auto=True,\n",
    "                color_continuous_scale=\"RdBu_r\",\n",
    "                title=\"Correlation Heatmap\")\n",
    "fig.show()\n"
   ]
  },
  {
   "cell_type": "code",
   "execution_count": null,
   "id": "293b6e93",
   "metadata": {},
   "outputs": [
    {
     "data": {
      "text/plain": [
       "country\n",
       "China        3\n",
       "Germany     28\n",
       "UK          72\n",
       "US         193\n",
       "Name: converted, dtype: int64"
      ]
     },
     "metadata": {},
     "output_type": "display_data"
    }
   ],
   "source": [
    "data_sample_country_groups = data_sample.groupby(by=\"country\")[\"converted\"].sum()\n",
    "data_sample_country_groups\n"
   ]
  },
  {
   "cell_type": "code",
   "execution_count": null,
   "id": "68771974",
   "metadata": {},
   "outputs": [
    {
     "data": {
      "text/plain": [
       "source\n",
       "Ads        76\n",
       "Direct     52\n",
       "Seo       168\n",
       "Name: converted, dtype: int64"
      ]
     },
     "metadata": {},
     "output_type": "display_data"
    }
   ],
   "source": [
    "data_sample_source_groups = data_sample.groupby(by=\"source\")[\"converted\"].sum()\n",
    "data_sample_source_groups"
   ]
  }
 ],
 "metadata": {
  "kernelspec": {
   "display_name": "conversion_rate_env",
   "language": "python",
   "name": "python3"
  },
  "language_info": {
   "name": "python",
   "version": "3.13.5"
  }
 },
 "nbformat": 4,
 "nbformat_minor": 5
}
